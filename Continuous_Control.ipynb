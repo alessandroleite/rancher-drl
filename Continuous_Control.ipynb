{
 "cells": [
  {
   "cell_type": "markdown",
   "metadata": {},
   "source": [
    "# Continuous Control\n",
    "\n",
    "---\n",
    "\n",
    "This notebook uses the [Unity ML-Agents](https://github.com/Unity-Technologies/ml-agents/) environment to train a DDPG model for the second project of the [Deep Reinforcement Learning Nanodegree](https://www.udacity.com/course/deep-reinforcement-learning-nanodegree--nd893)._\n",
    "\n",
    "\n",
    "### 1. Start the Environment\n",
    "\n",
    "If the code cell below returns an error, please double-check that you have installed [Unity ML-Agents](https://github.com/Unity-Technologies/ml-agents/blob/master/docs/Installation.md) and all the required libraries."
   ]
  },
  {
   "cell_type": "code",
   "execution_count": 1,
   "metadata": {},
   "outputs": [],
   "source": [
    "from collections import deque\n",
    "\n",
    "from unityagents import UnityEnvironment\n",
    "\n",
    "import numpy as np\n",
    "import pandas as pd\n",
    "import torch\n",
    "\n",
    "import matplotlib.pyplot as plt\n",
    "%matplotlib inline\n",
    "\n",
    "#import os\n",
    "#os.environ[\"KERAS_BACKEND\"] = \"plaidml.keras.backend\""
   ]
  },
  {
   "cell_type": "code",
   "execution_count": 2,
   "metadata": {},
   "outputs": [
    {
     "name": "stderr",
     "output_type": "stream",
     "text": [
      "INFO:unityagents:\n",
      "'Academy' started successfully!\n",
      "Unity Academy name: Academy\n",
      "        Number of Brains: 1\n",
      "        Number of External Brains : 1\n",
      "        Lesson number : 0\n",
      "        Reset Parameters :\n",
      "\t\tgoal_speed -> 1.0\n",
      "\t\tgoal_size -> 5.0\n",
      "Unity brain name: ReacherBrain\n",
      "        Number of Visual Observations (per agent): 0\n",
      "        Vector Observation space type: continuous\n",
      "        Vector Observation space size (per agent): 33\n",
      "        Number of stacked Vector Observation: 1\n",
      "        Vector Action space type: continuous\n",
      "        Vector Action space size (per agent): 4\n",
      "        Vector Action descriptions: , , , \n"
     ]
    }
   ],
   "source": [
    "env = UnityEnvironment(file_name='env/Reacher20')"
   ]
  },
  {
   "cell_type": "markdown",
   "metadata": {},
   "source": [
    "### 2. State and Action Spaces\n",
    "\n",
    "Environments contain **_brains_** which are responsible for deciding the actions of their associated agents.\n",
    "\n",
    "In this environment, a double-jointed arm can move to target locations. A reward of `+0.1` is provided for each step that the agent's hand is in the goal location. Thus, the goal of the agent is to maintain its position at the target location for as many time steps as possible.\n",
    "\n",
    "The observation space consists of `33` variables corresponding to position, rotation, velocity, and angular velocities of the arm.  Each action is a vector with four numbers, corresponding to torque applicable to two joints.  Every entry in the action vector must be a number between `-1` and `1`.\n",
    "\n",
    "Run the code cell below to print some information about the environment."
   ]
  },
  {
   "cell_type": "code",
   "execution_count": 3,
   "metadata": {},
   "outputs": [
    {
     "name": "stdout",
     "output_type": "stream",
     "text": [
      "There are 20 agents. Each observes a state with length: 33\n",
      "The state for the first agent looks like: [ 0.00000000e+00 -4.00000000e+00  0.00000000e+00  1.00000000e+00\n",
      " -0.00000000e+00 -0.00000000e+00 -4.37113883e-08  0.00000000e+00\n",
      "  0.00000000e+00  0.00000000e+00  0.00000000e+00  0.00000000e+00\n",
      "  0.00000000e+00  0.00000000e+00 -1.00000000e+01  0.00000000e+00\n",
      "  1.00000000e+00 -0.00000000e+00 -0.00000000e+00 -4.37113883e-08\n",
      "  0.00000000e+00  0.00000000e+00  0.00000000e+00  0.00000000e+00\n",
      "  0.00000000e+00  0.00000000e+00  5.75471878e+00 -1.00000000e+00\n",
      "  5.55726624e+00  0.00000000e+00  1.00000000e+00  0.00000000e+00\n",
      " -1.68164849e-01]\n"
     ]
    }
   ],
   "source": [
    "# get the default brain\n",
    "brain_name = env.brain_names[0]\n",
    "brain = env.brains[brain_name]\n",
    "\n",
    "# reset the environment\n",
    "env_info = env.reset(train_mode=True)[brain_name]\n",
    "\n",
    "# number of agents\n",
    "num_agents = len(env_info.agents)\n",
    "\n",
    "# number of actions\n",
    "action_size = brain.vector_action_space_size\n",
    "\n",
    "# examine the state space \n",
    "states = env_info.vector_observations\n",
    "state_size = states.shape[1]\n",
    "\n",
    "print('There are {} agents. Each observes a state with length: {}'.format(states.shape[0], state_size))\n",
    "print('The state for the first agent looks like:', states[0])"
   ]
  },
  {
   "cell_type": "markdown",
   "metadata": {},
   "source": [
    "### 3. Train the policy"
   ]
  },
  {
   "cell_type": "code",
   "execution_count": 4,
   "metadata": {},
   "outputs": [],
   "source": [
    "def step_env(actions):\n",
    "    \n",
    "    env_info = env.step(actions)[brain_name]    # sends the action of each agent for the environment\n",
    "    next_states = env_info.vector_observations  # get the next state for each agent\n",
    "    rewards =  env_info.rewards                 # get the reward for each agent\n",
    "    dones = env_info.local_done                 # check if any episode has finished\n",
    "    \n",
    "    return next_states, rewards, dones, env_info\n",
    "\n",
    "def ddpg(agent, n_episodes=2000, max_t=1000):\n",
    "    \n",
    "    scores = []                        # list with the scores from each episode\n",
    "    scores_window = deque(maxlen=100)  # last 10 scores\n",
    "    scores_window_mean =  []           # the mean of the last 10 episodes\n",
    "    scores_window_std  =  []           # std of the last 10 episodes\n",
    "    \n",
    "    for i_episode in range(1, n_episodes+1):\n",
    "        env_info = env.reset(train_mode=True)[brain_name] # reset the environment\n",
    "        agent.reset()\n",
    "        states = env_info.vector_observations             # get the current state for each agent\n",
    "        score = 0.0                                       # initialize the score for each agent\n",
    "        for t in range(max_t):\n",
    "            actions = agent.act(states)                     # selects an action\n",
    "            next_states, rewards, dones,_ = step_env(actions) # sends the action and obtain next_states, rewards, \n",
    "                                                            # dones for each agent\n",
    "            \n",
    "            agent.step(states, actions, rewards, next_states, dones) # execute the action\n",
    "            \n",
    "            states = next_states      # update the current state\n",
    "            score += np.mean(rewards) # update the score\n",
    "            \n",
    "            if np.any(dones):\n",
    "                break\n",
    "            \n",
    "        scores.append(score)                           # save most recent score\n",
    "        scores_window.append(score)                    \n",
    "        w_score_mean = np.mean(scores_window)\n",
    "        scores_window_mean.append(w_score_mean)\n",
    "        scores_window_std.append(np.std(scores_window))\n",
    "        \n",
    "        print('\\rEpisode {}\\tAverage Score: {:.2f} \\tScore: {:.2f}'.format(i_episode, w_score_mean, score), end=\"\")\n",
    "        \n",
    "        if i_episode % 10 == 0:\n",
    "            print('\\rEpisode {}\\tAverage Score: {:.2f} \\tScore: {:.2f}'.format(i_episode, w_score_mean, score))     \n",
    "        \n",
    "        if w_score_mean >= 30:\n",
    "            print('\\nEnvironment solved in {:d} episodes!\\tAverage Score: {:.2f}'.format(i_episode, w_score_mean))\n",
    "            \n",
    "            filename = \"checkpoints/{}_checkpoint_{}.pth\"\n",
    "            torch.save(agent.actor_local.state_dict(),  filename.format(type(agent).__name__, \"actor\"))\n",
    "            torch.save(agent.critic_local.state_dict(), filename.format(type(agent).__name__, \"critic\"))\n",
    "            break\n",
    "            \n",
    "    return (scores, scores_window_mean, scores_window_std)"
   ]
  },
  {
   "cell_type": "markdown",
   "metadata": {},
   "source": [
    "DDPG Agent"
   ]
  },
  {
   "cell_type": "code",
   "execution_count": 5,
   "metadata": {},
   "outputs": [],
   "source": [
    "from ddpg.agent import DDPGAgent\n",
    "agent = DDPGAgent(state_size, action_size, num_agents, seed=42, update_frequency=20, n_learn=10)"
   ]
  },
  {
   "cell_type": "markdown",
   "metadata": {},
   "source": [
    "Checking the architecture of the Actor and Critic network"
   ]
  },
  {
   "cell_type": "code",
   "execution_count": 6,
   "metadata": {},
   "outputs": [
    {
     "name": "stdout",
     "output_type": "stream",
     "text": [
      "Actor(\n",
      "  (fc1): Linear(in_features=33, out_features=400, bias=True)\n",
      "  (fc2): Linear(in_features=400, out_features=300, bias=True)\n",
      "  (fc3): Linear(in_features=300, out_features=4, bias=True)\n",
      ")\n",
      "Critic(\n",
      "  (fcs1): Linear(in_features=33, out_features=400, bias=True)\n",
      "  (fc2): Linear(in_features=404, out_features=300, bias=True)\n",
      "  (fc3): Linear(in_features=300, out_features=1, bias=True)\n",
      ")\n"
     ]
    }
   ],
   "source": [
    "print(agent.actor_local)\n",
    "print(agent.critic_local)"
   ]
  },
  {
   "cell_type": "markdown",
   "metadata": {},
   "source": [
    "Training an DDPG agent "
   ]
  },
  {
   "cell_type": "code",
   "execution_count": null,
   "metadata": {},
   "outputs": [
    {
     "name": "stdout",
     "output_type": "stream",
     "text": [
      "Episode 10\tAverage Score: 0.20 \tScore: 0.16\n",
      "Episode 20\tAverage Score: 0.35 \tScore: 0.85\n",
      "Episode 30\tAverage Score: 0.54 \tScore: 1.17\n",
      "Episode 40\tAverage Score: 0.79 \tScore: 1.31\n",
      "Episode 50\tAverage Score: 0.91 \tScore: 1.47\n",
      "Episode 60\tAverage Score: 1.13 \tScore: 2.92\n",
      "Episode 70\tAverage Score: 1.38 \tScore: 3.57\n",
      "Episode 80\tAverage Score: 1.69 \tScore: 4.14\n",
      "Episode 90\tAverage Score: 1.95 \tScore: 4.74\n",
      "Episode 100\tAverage Score: 2.20 \tScore: 4.57\n",
      "Episode 110\tAverage Score: 2.71 \tScore: 5.87\n",
      "Episode 120\tAverage Score: 3.19 \tScore: 5.99\n",
      "Episode 130\tAverage Score: 3.67 \tScore: 5.47\n",
      "Episode 140\tAverage Score: 4.11 \tScore: 5.59\n",
      "Episode 150\tAverage Score: 4.63 \tScore: 6.78\n",
      "Episode 160\tAverage Score: 5.10 \tScore: 7.54\n",
      "Episode 170\tAverage Score: 5.51 \tScore: 5.66\n",
      "Episode 180\tAverage Score: 5.86 \tScore: 7.97\n",
      "Episode 190\tAverage Score: 6.26 \tScore: 8.94\n",
      "Episode 200\tAverage Score: 6.67 \tScore: 8.92\n",
      "Episode 210\tAverage Score: 7.08 \tScore: 9.191\n",
      "Episode 220\tAverage Score: 7.42 \tScore: 8.181\n",
      "Episode 230\tAverage Score: 7.72 \tScore: 8.74\n",
      "Episode 240\tAverage Score: 8.04 \tScore: 8.706\n",
      "Episode 250\tAverage Score: 8.37 \tScore: 9.990\n",
      "Episode 260\tAverage Score: 8.69 \tScore: 10.72\n",
      "Episode 270\tAverage Score: 8.98 \tScore: 9.081\n",
      "Episode 280\tAverage Score: 9.15 \tScore: 8.56\n",
      "Episode 290\tAverage Score: 9.28 \tScore: 7.883\n",
      "Episode 300\tAverage Score: 9.38 \tScore: 9.735\n",
      "Episode 310\tAverage Score: 9.44 \tScore: 10.19\n",
      "Episode 320\tAverage Score: 9.58 \tScore: 9.222\n",
      "Episode 330\tAverage Score: 9.84 \tScore: 11.69\n",
      "Episode 340\tAverage Score: 10.06 \tScore: 12.44\n",
      "Episode 350\tAverage Score: 10.31 \tScore: 13.14\n",
      "Episode 360\tAverage Score: 10.53 \tScore: 13.50\n",
      "Episode 370\tAverage Score: 10.81 \tScore: 13.32\n",
      "Episode 380\tAverage Score: 11.19 \tScore: 11.32\n",
      "Episode 390\tAverage Score: 11.61 \tScore: 13.65\n",
      "Episode 400\tAverage Score: 12.12 \tScore: 15.44\n",
      "Episode 410\tAverage Score: 12.62 \tScore: 14.26\n",
      "Episode 420\tAverage Score: 13.13 \tScore: 15.55\n",
      "Episode 430\tAverage Score: 13.74 \tScore: 18.30\n",
      "Episode 440\tAverage Score: 14.42 \tScore: 17.46\n",
      "Episode 450\tAverage Score: 15.20 \tScore: 22.94\n",
      "Episode 460\tAverage Score: 16.07 \tScore: 21.73\n",
      "Episode 470\tAverage Score: 16.94 \tScore: 19.52\n",
      "Episode 480\tAverage Score: 17.88 \tScore: 22.49\n",
      "Episode 490\tAverage Score: 18.85 \tScore: 23.64\n",
      "Episode 500\tAverage Score: 19.71 \tScore: 25.50\n",
      "Episode 510\tAverage Score: 20.71 \tScore: 25.45\n",
      "Episode 520\tAverage Score: 21.76 \tScore: 27.00\n",
      "Episode 530\tAverage Score: 22.77 \tScore: 27.02\n",
      "Episode 540\tAverage Score: 23.74 \tScore: 28.46\n",
      "Episode 550\tAverage Score: 24.60 \tScore: 28.86\n",
      "Episode 560\tAverage Score: 25.41 \tScore: 28.52\n",
      "Episode 570\tAverage Score: 26.16 \tScore: 29.43\n",
      "Episode 580\tAverage Score: 26.81 \tScore: 28.33\n",
      "Episode 590\tAverage Score: 27.38 \tScore: 29.36\n",
      "Episode 600\tAverage Score: 27.93 \tScore: 29.64\n",
      "Episode 610\tAverage Score: 28.25 \tScore: 28.80\n",
      "Episode 620\tAverage Score: 28.41 \tScore: 26.34\n",
      "Episode 630\tAverage Score: 28.38 \tScore: 28.13\n",
      "Episode 640\tAverage Score: 28.32 \tScore: 26.68\n",
      "Episode 650\tAverage Score: 28.17 \tScore: 27.15\n",
      "Episode 660\tAverage Score: 28.00 \tScore: 29.04\n",
      "Episode 670\tAverage Score: 27.91 \tScore: 27.42\n",
      "Episode 680\tAverage Score: 27.87 \tScore: 28.50\n",
      "Episode 690\tAverage Score: 27.89 \tScore: 29.75\n",
      "Episode 700\tAverage Score: 27.94 \tScore: 28.23\n",
      "Episode 710\tAverage Score: 27.94 \tScore: 27.99\n",
      "Episode 720\tAverage Score: 28.06 \tScore: 29.10\n",
      "Episode 730\tAverage Score: 28.09 \tScore: 27.48\n",
      "Episode 740\tAverage Score: 28.12 \tScore: 27.07\n",
      "Episode 750\tAverage Score: 28.12 \tScore: 27.57\n",
      "Episode 757\tAverage Score: 28.10 \tScore: 27.70"
     ]
    }
   ],
   "source": [
    "scores, scores_window_mean, scores_window_std = ddpg(agent)"
   ]
  },
  {
   "cell_type": "markdown",
   "metadata": {},
   "source": [
    "## 4. Visualizing the scores"
   ]
  },
  {
   "cell_type": "code",
   "execution_count": 25,
   "metadata": {},
   "outputs": [],
   "source": [
    "def plot_scores(scores, rolling_mean, rolling_std, title, filename=''):\n",
    "    \n",
    "    \"\"\"Plot the scores with the moving average\"\"\"\n",
    "    \n",
    "    fig = plt.figure(figsize=(8,4))\n",
    "    ax = fig.add_subplot(111)\n",
    "    \n",
    "    ax.axhline(y=30., xmin=0.0, xmax=1.0, color='r', linestyle='--', alpha=0.9, label=\"Score threshold baseline\")\n",
    "    \n",
    "    plt.plot(np.arange(len(scores)), scores);\n",
    "    plt.plot(np.arange(len(rolling_mean)), rolling_mean,label='Moving average');\n",
    "    plt.fill_between(np.arange(len(rolling_mean)), rolling_mean + rolling_std, rolling_mean - rolling_std, \n",
    "                     facecolor='green', alpha=0.4, label=\"Std of the moving average\");\n",
    "    plt.ylabel(\"Score\"); plt.xlabel(\"Episode #\"); plt.title(title);\n",
    "    ax.legend(loc='upper left')\n",
    "    ax.set_xlim(0, len(scores) + 1)\n",
    "    \n",
    "    if filename != '':\n",
    "        fig.savefig(filename, format='pdf')"
   ]
  },
  {
   "cell_type": "code",
   "execution_count": 27,
   "metadata": {},
   "outputs": [
    {
     "data": {
      "image/png": "[encoded data removed]",
      "text/plain": [
       "<Figure size 576x288 with 1 Axes>"
      ]
     },
     "metadata": {
      "needs_background": "light"
     },
     "output_type": "display_data"
    }
   ],
   "source": [
    "plot_scores(scores, np.array(scores_window_mean), np.array(scores_window_std), \n",
    "            title='DDPG Learning Curve', filename='report/figures/{}_score.pdf'.format(type(agent).__name__));"
   ]
  },
  {
   "cell_type": "markdown",
   "metadata": {},
   "source": [
    "## 5. Watch a smart agent"
   ]
  },
  {
   "cell_type": "code",
   "execution_count": null,
   "metadata": {},
   "outputs": [],
   "source": [
    "agent.actor_local.load_state_dict(torch.load('checkpoints/{}_checkpoint_actor.pth'.format(type(agent).__name__)))\n",
    "agent.critic_local.load_state_dict(torch.load('checkpoint/{}_checkpoint_critic.pth'.format(type(agent).__name__)))\n",
    "\n",
    "env_info = env.reset(train_mode=False)[brain_name]     # reset the environment    \n",
    "states = env_info.vector_observations                  # get the current state for each agent\n",
    "scores = np.zeros(num_agents)                          # initialize the score for each agent\n",
    "\n",
    "while True:\n",
    "    actions = agent.act(states)                        # select actions from loaded model agent\n",
    "    env_info = env.step(actions)[brain_name]           # send all actions to the environment\n",
    "    next_states = env_info.vector_observations         # get the next state for each agent\n",
    "    rewards = env_info.rewards                         # get the reward for each agent\n",
    "    dones = env_info.local_done                        # see if episode has finished\n",
    "    scores += env_info.rewards                         # update the score for each agent\n",
    "    states = next_states                               # roll over states to next time step\n",
    "    if np.any(dones):                                  # exit loop if episode finished\n",
    "        break\n",
    "print('Total score: {}'.format(np.mean(scores)))"
   ]
  },
  {
   "cell_type": "markdown",
   "metadata": {},
   "source": [
    "Close the environment"
   ]
  },
  {
   "cell_type": "code",
   "execution_count": null,
   "metadata": {},
   "outputs": [],
   "source": [
    "env.close()"
   ]
  }
 ],
 "metadata": {
  "kernelspec": {
   "display_name": "Python 3",
   "language": "python",
   "name": "python3"
  },
  "language_info": {
   "codemirror_mode": {
    "name": "ipython",
    "version": 3
   },
   "file_extension": ".py",
   "mimetype": "text/x-python",
   "name": "python",
   "nbconvert_exporter": "python",
   "pygments_lexer": "ipython3",
   "version": "3.6.10"
  }
 },
 "nbformat": 4,
 "nbformat_minor": 2
}
